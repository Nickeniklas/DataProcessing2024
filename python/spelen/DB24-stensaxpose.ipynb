{
 "cells": [
  {
   "cell_type": "markdown",
   "id": "4b7872d6-7052-43fb-b3ae-7403657d0c5e",
   "metadata": {},
   "source": [
    "# Sten Sax Påse, The Python Game!\n",
    "\n",
    "### two players"
   ]
  },
  {
   "cell_type": "code",
   "execution_count": 6,
   "id": "2a97ad2f-8bca-4f17-b2f0-d5d4b4d10c47",
   "metadata": {},
   "outputs": [],
   "source": [
    "# import getpass\n",
    "import getpass"
   ]
  },
  {
   "cell_type": "code",
   "execution_count": 1,
   "id": "8173e825-fbef-4f26-8505-e33f27bc89a8",
   "metadata": {},
   "outputs": [
    {
     "name": "stdout",
     "output_type": "stream",
     "text": [
      "Welcome to sten sax påse! \n",
      "Lets start...\n"
     ]
    }
   ],
   "source": [
    "print(\"Welcome to sten sax påse! \\nLets start...\")"
   ]
  },
  {
   "cell_type": "code",
   "execution_count": 2,
   "id": "2af05a1f-963f-4fc1-9804-00d9ce3b645e",
   "metadata": {},
   "outputs": [
    {
     "name": "stdin",
     "output_type": "stream",
     "text": [
      "Player 1 name:  a\n",
      "Player 2 name:  b\n"
     ]
    }
   ],
   "source": [
    "userName1 = input(\"Player 1 name: \")\n",
    "userName2 = input(\"Player 2 name: \")"
   ]
  },
  {
   "cell_type": "code",
   "execution_count": null,
   "id": "b093d34d-4ff9-4e71-9859-b38de815ada1",
   "metadata": {},
   "outputs": [],
   "source": []
  },
  {
   "cell_type": "markdown",
   "id": "c9bc2bf4-e330-4aac-9180-499980ceab25",
   "metadata": {},
   "source": [
    "### Let the players choose theirs weapons [1-3] or quit [4].\n",
    "\n",
    "### Then we have player1's 3 different choises and the matching outputs depending on what player 2 chooses. \n",
    "#### Its just a dict with output texts and we use the user2Weapon as index."
   ]
  },
  {
   "cell_type": "code",
   "execution_count": 7,
   "id": "108abe2e-6d19-4ea8-bfac-911b807b7592",
   "metadata": {},
   "outputs": [
    {
     "name": "stdout",
     "output_type": "stream",
     "text": [
      "Choose your fighter: [sten = 1], [sax = 2], [påse = 3] [quit = 4]\n"
     ]
    },
    {
     "name": "stdin",
     "output_type": "stream",
     "text": [
      " ········\n"
     ]
    },
    {
     "ename": "TypeError",
     "evalue": "'str' object is not callable",
     "output_type": "error",
     "traceback": [
      "\u001b[0;31m---------------------------------------------------------------------------\u001b[0m",
      "\u001b[0;31mTypeError\u001b[0m                                 Traceback (most recent call last)",
      "Cell \u001b[0;32mIn[7], line 7\u001b[0m\n\u001b[1;32m      5\u001b[0m \u001b[38;5;28mprint\u001b[39m(\u001b[38;5;124m\"\u001b[39m\u001b[38;5;124mChoose your fighter: [sten = 1], [sax = 2], [påse = 3] [quit = 4]\u001b[39m\u001b[38;5;124m\"\u001b[39m)\n\u001b[1;32m      6\u001b[0m \u001b[38;5;66;03m# Input for weapon choices\u001b[39;00m\n\u001b[0;32m----> 7\u001b[0m user1Weapon \u001b[38;5;241m=\u001b[39m \u001b[43mgetpass\u001b[49m\u001b[38;5;241;43m.\u001b[39;49m\u001b[43mgetpass\u001b[49m\u001b[43m(\u001b[49m\u001b[43m)\u001b[49m\u001b[43m(\u001b[49m\u001b[38;5;124;43mf\u001b[39;49m\u001b[38;5;124;43m\"\u001b[39;49m\u001b[38;5;132;43;01m{\u001b[39;49;00m\u001b[43muserName1\u001b[49m\u001b[38;5;132;43;01m}\u001b[39;49;00m\u001b[38;5;124;43m weapon:\u001b[39;49m\u001b[38;5;124;43m\"\u001b[39;49m\u001b[43m)\u001b[49m\n\u001b[1;32m      8\u001b[0m user2Weapon \u001b[38;5;241m=\u001b[39m getpass\u001b[38;5;241m.\u001b[39mgetpass()(\u001b[38;5;124mf\u001b[39m\u001b[38;5;124m\"\u001b[39m\u001b[38;5;132;01m{\u001b[39;00muserName2\u001b[38;5;132;01m}\u001b[39;00m\u001b[38;5;124m weapon:\u001b[39m\u001b[38;5;124m\"\u001b[39m)\n\u001b[1;32m     10\u001b[0m \u001b[38;5;66;03m#if elif else to check who is winner\u001b[39;00m\n\u001b[1;32m     11\u001b[0m \u001b[38;5;66;03m# first we check for valid input\u001b[39;00m\n",
      "\u001b[0;31mTypeError\u001b[0m: 'str' object is not callable"
     ]
    }
   ],
   "source": [
    "user1Weapon = 0\n",
    "user2Weapon = 0\n",
    "\n",
    "while(user1Weapon != \"4\" and user2Weapon != \"4\"): \n",
    "    print(\"Choose your fighter: [sten = 1], [sax = 2], [påse = 3] [quit = 4]\")\n",
    "    # Input for weapon choices\n",
    "    user1Weapon = getpass.getpass()(f\"{userName1} weapon:\")\n",
    "    user2Weapon = getpass.getpass()(f\"{userName2} weapon:\")\n",
    "    \n",
    "    #if elif else to check who is winner\n",
    "    # first we check for valid input\n",
    "    if(int(user1Weapon) not in range(1, 5) or int(user2Weapon) not in range(1, 5)):\n",
    "        print(\"Choose a valid weapon [1-3] or quit [4]\")\n",
    "    elif(user1Weapon == \"1\"):\n",
    "        endings = {\n",
    "            1: \"Tie!\",\n",
    "            2: f\"{userName1} Wins!\",\n",
    "            3: f\"{userName2} Wins!\"\n",
    "        }\n",
    "        print(endings[int(user2Weapon)])\n",
    "\n",
    "    elif(user1Weapon == \"2\"):\n",
    "        endings = {\n",
    "            1: f\"{userName2} Wins!\",\n",
    "            2: \"Tie!\",\n",
    "            3: f\"{userName1} Wins!\"\n",
    "        }\n",
    "        print(endings[int(user2Weapon)])\n",
    "        \n",
    "    elif(user1Weapon == \"3\"):\n",
    "        endings = {\n",
    "            1: f\"{userName1} Wins!\",\n",
    "            2: f\"{userName2} Wins!\",\n",
    "            3: \"Tie!\"\n",
    "        }\n",
    "        print(endings[int(user2Weapon)])\n",
    "        "
   ]
  },
  {
   "cell_type": "code",
   "execution_count": null,
   "id": "9d19f022-7b98-44bd-ad1e-f87a5f31d5ca",
   "metadata": {},
   "outputs": [],
   "source": []
  }
 ],
 "metadata": {
  "kernelspec": {
   "display_name": "Python 3 (ipykernel)",
   "language": "python",
   "name": "python3"
  },
  "language_info": {
   "codemirror_mode": {
    "name": "ipython",
    "version": 3
   },
   "file_extension": ".py",
   "mimetype": "text/x-python",
   "name": "python",
   "nbconvert_exporter": "python",
   "pygments_lexer": "ipython3",
   "version": "3.11.9"
  }
 },
 "nbformat": 4,
 "nbformat_minor": 5
}
