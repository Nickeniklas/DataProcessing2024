{
 "cells": [
  {
   "cell_type": "markdown",
   "id": "c4744103-1741-45ad-a262-3c7d15db1520",
   "metadata": {},
   "source": [
    "# DB 24 - Spelen\n",
    "## 1. Sten, sax och påse\n",
    "## 2. Mindreader\n",
    "## 3. OptimusPrime"
   ]
  },
  {
   "cell_type": "markdown",
   "id": "5beb4220-32a9-4b1a-ba34-74dacbca990c",
   "metadata": {},
   "source": [
    "# 1. Sten, sax och påse\n",
    "### 2 players"
   ]
  },
  {
   "cell_type": "code",
   "execution_count": null,
   "id": "575c49bc-7311-4b26-9eee-c3ffc0b144da",
   "metadata": {},
   "outputs": [],
   "source": [
    "# imports\n",
    "import getpass"
   ]
  },
  {
   "cell_type": "code",
   "execution_count": null,
   "id": "e8a29caa-d8c1-4918-a017-ece404742dba",
   "metadata": {},
   "outputs": [],
   "source": [
    "print(\"Welcome to sten sax påse! \\nLets start...\")\n",
    "userName1 = input(\"Player 1 name: \")\n",
    "userName2 = input(\"Player 2 name: \")"
   ]
  },
  {
   "cell_type": "markdown",
   "id": "94a43158-7f65-4b94-88ef-21c28fbddc6f",
   "metadata": {},
   "source": [
    "### Let the players choose theirs weapons [1-3] or quit [4].\n",
    "\n",
    "### Then we have player1's 3 different choises and the matching outputs depending on what player 2 chooses. \n",
    "#### Its just a dict with output texts and we use the user2Weapon as index."
   ]
  },
  {
   "cell_type": "code",
   "execution_count": null,
   "id": "e7a3de9c-4dbe-4657-8b8f-fd81c432e7f9",
   "metadata": {},
   "outputs": [],
   "source": [
    "user1Weapon = 0\n",
    "user2Weapon = 0\n",
    "\n",
    "while(user1Weapon != \"4\" and user2Weapon != \"4\"): \n",
    "    print(\"Choose your fighter: [sten = 1], [sax = 2], [påse = 3] [quit = 4]\")\n",
    "    # Input for weapon choices\n",
    "    user1Weapon = getpass.getpass(f\"{userName1} weapon:\")\n",
    "    user2Weapon = getpass.getpass(f\"{userName2} weapon:\")\n",
    "    \n",
    "    #if elif else to check who is winner\n",
    "    # first we check for valid input\n",
    "    if(int(user1Weapon) not in range(1, 5) or int(user2Weapon) not in range(1, 5)):\n",
    "        print(\"Choose a valid weapon [1-3] or quit [4]\")\n",
    "    elif(user1Weapon == \"1\"):\n",
    "        endings = {\n",
    "            1: \"Tie!\",\n",
    "            2: f\"{userName1} Wins!\",\n",
    "            3: f\"{userName2} Wins!\"\n",
    "        }\n",
    "        print(endings[int(user2Weapon)])\n",
    "\n",
    "    elif(user1Weapon == \"2\"):\n",
    "        endings = {\n",
    "            1: f\"{userName2} Wins!\",\n",
    "            2: \"Tie!\",\n",
    "            3: f\"{userName1} Wins!\"\n",
    "        }\n",
    "        print(endings[int(user2Weapon)])\n",
    "        \n",
    "    elif(user1Weapon == \"3\"):\n",
    "        endings = {\n",
    "            1: f\"{userName1} Wins!\",\n",
    "            2: f\"{userName2} Wins!\",\n",
    "            3: \"Tie!\"\n",
    "        }\n",
    "        print(endings[int(user2Weapon)])\n",
    "        "
   ]
  },
  {
   "cell_type": "markdown",
   "id": "985bb4f4-8898-472e-96e0-863b6f2cf042",
   "metadata": {},
   "source": [
    "# 2. MindReader \n",
    "## Player has to guess the number between 1 - 10"
   ]
  },
  {
   "cell_type": "code",
   "execution_count": null,
   "id": "9d2fc37b-cb74-4f51-8be5-0eb359b478e4",
   "metadata": {},
   "outputs": [],
   "source": [
    "# imports\n",
    "import random"
   ]
  },
  {
   "cell_type": "code",
   "execution_count": null,
   "id": "17c913b3-9ed7-4534-aa04-e677da90dd20",
   "metadata": {},
   "outputs": [],
   "source": [
    "print(\"Welcome to the Amazing Python Game - MIND READER\")"
   ]
  },
  {
   "cell_type": "code",
   "execution_count": null,
   "id": "9091833b-ce40-41e7-9016-ea3238e7745c",
   "metadata": {},
   "outputs": [],
   "source": [
    "randomNum = random.randint(1, 10)\n",
    "guessCount = 0\n",
    "\n",
    "while (True):\n",
    "    guessCount +=1\n",
    "    userGuess = input(\"Guess the number\")\n",
    "    # USER GUESSED CORRECT\n",
    "    if (int(userGuess) == randomNum):\n",
    "        print(f\"Correct! The number was: {randomNum} and it took you {guessCount} attempts to guess right.\")\n",
    "        # play again?\n",
    "        retryInput = input(\"Want to play again [1 = yes, 2 = no]?\")\n",
    "        if (retryInput == \"1\"):\n",
    "            randomNum = random.randint(1, 10)\n",
    "            guessCount = 0\n",
    "            continue\n",
    "        else: \n",
    "            break\n",
    "    # user guessed a lower number\n",
    "    elif (int(userGuess) < randomNum):\n",
    "        print(\"Higher\")\n",
    "    # user guessed a higher number\n",
    "    elif (int(userGuess) > randomNum):\n",
    "        print(\"Lower\")"
   ]
  },
  {
   "cell_type": "code",
   "execution_count": null,
   "id": "83175622-854e-4c46-89fc-4debc692af43",
   "metadata": {},
   "outputs": [],
   "source": [
    "# 3. Optimus Prime\n",
    "\n",
    "## method to check if given number is a prime number"
   ]
  },
  {
   "cell_type": "code",
   "execution_count": null,
   "id": "856024ea-7326-4c55-b6b6-a739857cbf2d",
   "metadata": {},
   "outputs": [],
   "source": [
    "def optimusPrime(val):\n",
    "    \"\"\"Hello loser, this function is only intended for Autobots.\n",
    "    ok but actually tho, I just check for prime numbers and return a string response\"\"\"\n",
    "    # exception\n",
    "    if (val == 2):\n",
    "        return(\"The number 2 is a Prime, the only Even Prime.\")    \n",
    "    # check for prime number\n",
    "    for i in range(2, val):\n",
    "        if (val % i == 0):\n",
    "            isPrime = False\n",
    "            return (f\"Number \\\"{val}\\\" is not a prime number.\")\n",
    "        else: \n",
    "            isPrime = True\n",
    "            return (f\"Number \\\"{val}\\\" is a prime number.\")\n"
   ]
  },
  {
   "cell_type": "code",
   "execution_count": null,
   "id": "b3bd6348-7e04-4c60-8828-badd0f99fb99",
   "metadata": {},
   "outputs": [],
   "source": [
    "# user input number to see for prime\n",
    "userNum = int(input(\"What number do you want to know if Optimus Prime likes: \"))"
   ]
  },
  {
   "cell_type": "code",
   "execution_count": null,
   "id": "daa518cb-1d21-4c7c-829c-0a4f0f700e3e",
   "metadata": {},
   "outputs": [],
   "source": [
    "# lets call the function with our input number! \n",
    "optimusPrime(userNum)"
   ]
  },
  {
   "cell_type": "code",
   "execution_count": null,
   "id": "823b373a-55c5-4829-a254-eb3d543e9e4b",
   "metadata": {},
   "outputs": [],
   "source": [
    "# lets try it with an actual prime\n",
    "optimusPrime(37)"
   ]
  }
 ],
 "metadata": {
  "kernelspec": {
   "display_name": "Python 3 (ipykernel)",
   "language": "python",
   "name": "python3"
  },
  "language_info": {
   "codemirror_mode": {
    "name": "ipython",
    "version": 3
   },
   "file_extension": ".py",
   "mimetype": "text/x-python",
   "name": "python",
   "nbconvert_exporter": "python",
   "pygments_lexer": "ipython3",
   "version": "3.11.9"
  }
 },
 "nbformat": 4,
 "nbformat_minor": 5
}
