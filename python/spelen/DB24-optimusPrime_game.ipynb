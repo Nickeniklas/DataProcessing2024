{
 "cells": [
  {
   "cell_type": "markdown",
   "id": "15812e0e-c8b0-4c92-8eb6-fc8772299ef4",
   "metadata": {},
   "source": [
    "# Optimus Prime - The Python Game!\n",
    "\n",
    "## method to check if given number is a prime number"
   ]
  },
  {
   "cell_type": "code",
   "execution_count": 78,
   "id": "99013176-a95e-42d0-bcb9-cc4d946875d2",
   "metadata": {},
   "outputs": [],
   "source": [
    "def optimusPrime(val):\n",
    "    \"\"\"Hello loser, this function is only intended for Autobots.\n",
    "    ok but actually tho, I just check for prime numbers and return a string response\"\"\"\n",
    "    # exception\n",
    "    if (val == 2):\n",
    "        return(\"The number 2 is a Prime, the only Even Prime.\")    \n",
    "    # check for prime number\n",
    "    for i in range(2, val):\n",
    "        if (val % i == 0):\n",
    "            isPrime = False\n",
    "            return (f\"Number \\\"{userNum}\\\" is not a prime number.\")\n",
    "        else: \n",
    "            isPrime = True\n",
    "            return (f\"Number \\\"{userNum}\\\" is a prime number.\")\n"
   ]
  },
  {
   "cell_type": "code",
   "execution_count": 79,
   "id": "66558267-03d5-4714-b576-0b4c7e4a4813",
   "metadata": {},
   "outputs": [
    {
     "name": "stdin",
     "output_type": "stream",
     "text": [
      "What number do you want to know if Optimus Prime likes:  37\n"
     ]
    }
   ],
   "source": [
    "# user input number to see for prime\n",
    "userNum = int(input(\"What number do you want to know if Optimus Prime likes: \"))"
   ]
  },
  {
   "cell_type": "code",
   "execution_count": 80,
   "id": "a3a0ec9d-7edd-4830-8e13-2fe50a357fd7",
   "metadata": {},
   "outputs": [
    {
     "data": {
      "text/plain": [
       "'Number \"37\" is a prime number.'"
      ]
     },
     "execution_count": 80,
     "metadata": {},
     "output_type": "execute_result"
    }
   ],
   "source": [
    "# lets call the function with our input number! \n",
    "optimusPrime(userNum)"
   ]
  },
  {
   "cell_type": "code",
   "execution_count": 81,
   "id": "4e39316a-e938-4e89-a56b-56dc301c5288",
   "metadata": {},
   "outputs": [
    {
     "data": {
      "text/plain": [
       "'Number \"37\" is a prime number.'"
      ]
     },
     "execution_count": 81,
     "metadata": {},
     "output_type": "execute_result"
    }
   ],
   "source": [
    "# lets try it with an actual prime\n",
    "optimusPrime(7)"
   ]
  },
  {
   "cell_type": "code",
   "execution_count": 75,
   "id": "43cd0bc6-ccc7-4bbe-a85b-3a358fd2d04f",
   "metadata": {},
   "outputs": [
    {
     "ename": "TypeError",
     "evalue": "'<=' not supported between instances of 'str' and 'int'",
     "output_type": "error",
     "traceback": [
      "\u001b[0;31m---------------------------------------------------------------------------\u001b[0m",
      "\u001b[0;31mTypeError\u001b[0m                                 Traceback (most recent call last)",
      "Cell \u001b[0;32mIn[75], line 1\u001b[0m\n\u001b[0;32m----> 1\u001b[0m \u001b[43moptimusPrime\u001b[49m\u001b[43m(\u001b[49m\u001b[38;5;124;43m\"\u001b[39;49m\u001b[38;5;124;43m3\u001b[39;49m\u001b[38;5;124;43m\"\u001b[39;49m\u001b[43m)\u001b[49m\n",
      "Cell \u001b[0;32mIn[69], line 5\u001b[0m, in \u001b[0;36moptimusPrime\u001b[0;34m(val)\u001b[0m\n\u001b[1;32m      2\u001b[0m \u001b[38;5;250m\u001b[39m\u001b[38;5;124;03m\"\"\"Hello loser, this function is only intended for Autobots.\u001b[39;00m\n\u001b[1;32m      3\u001b[0m \u001b[38;5;124;03mok but actually tho, I just check for prime numbers and return a string response\"\"\"\u001b[39;00m\n\u001b[1;32m      4\u001b[0m \u001b[38;5;66;03m# exception\u001b[39;00m\n\u001b[0;32m----> 5\u001b[0m \u001b[38;5;28;01mif\u001b[39;00m (\u001b[43mval\u001b[49m\u001b[43m \u001b[49m\u001b[38;5;241;43m<\u001b[39;49m\u001b[38;5;241;43m=\u001b[39;49m\u001b[43m \u001b[49m\u001b[38;5;241;43m2\u001b[39;49m):\n\u001b[1;32m      6\u001b[0m     \u001b[38;5;28mprint\u001b[39m(\u001b[38;5;124m\"\u001b[39m\u001b[38;5;124mPick a number HIGHER than 2.\u001b[39m\u001b[38;5;124m\"\u001b[39m)    \n\u001b[1;32m      7\u001b[0m \u001b[38;5;66;03m# check for prime number\u001b[39;00m\n",
      "\u001b[0;31mTypeError\u001b[0m: '<=' not supported between instances of 'str' and 'int'"
     ]
    }
   ],
   "source": []
  },
  {
   "cell_type": "code",
   "execution_count": null,
   "id": "a577d18c-fc86-4e08-829b-d2c177a182bd",
   "metadata": {},
   "outputs": [],
   "source": []
  }
 ],
 "metadata": {
  "kernelspec": {
   "display_name": "Python 3 (ipykernel)",
   "language": "python",
   "name": "python3"
  },
  "language_info": {
   "codemirror_mode": {
    "name": "ipython",
    "version": 3
   },
   "file_extension": ".py",
   "mimetype": "text/x-python",
   "name": "python",
   "nbconvert_exporter": "python",
   "pygments_lexer": "ipython3",
   "version": "3.11.9"
  }
 },
 "nbformat": 4,
 "nbformat_minor": 5
}
