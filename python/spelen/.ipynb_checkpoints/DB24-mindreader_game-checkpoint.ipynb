{
 "cells": [
  {
   "cell_type": "markdown",
   "id": "5d5f3725-aec2-47ba-9425-2ef63bb8abdd",
   "metadata": {},
   "source": [
    "# Mind Reader - The Python Game!\n",
    "\n",
    "## Player has to guess the number between 1 - 10"
   ]
  },
  {
   "cell_type": "code",
   "execution_count": 3,
   "id": "eb820316-bf4a-492b-9c0e-088a09988944",
   "metadata": {},
   "outputs": [],
   "source": [
    "# imports\n",
    "import random"
   ]
  },
  {
   "cell_type": "code",
   "execution_count": 5,
   "id": "8a078f4d-14bb-4fef-8117-081cb614e137",
   "metadata": {},
   "outputs": [
    {
     "name": "stdout",
     "output_type": "stream",
     "text": [
      "Welcome to the Amazing Python Game - MIND READER\n"
     ]
    }
   ],
   "source": [
    "print(\"Welcome to the Amazing Python Game - MIND READER\")"
   ]
  },
  {
   "cell_type": "code",
   "execution_count": 48,
   "id": "4c800bbe-88ca-43ae-95fe-644275797ca8",
   "metadata": {},
   "outputs": [
    {
     "name": "stdin",
     "output_type": "stream",
     "text": [
      "Guess the number 1\n"
     ]
    },
    {
     "name": "stdout",
     "output_type": "stream",
     "text": [
      "Higher\n"
     ]
    },
    {
     "name": "stdin",
     "output_type": "stream",
     "text": [
      "Guess the number 9\n"
     ]
    },
    {
     "name": "stdout",
     "output_type": "stream",
     "text": [
      "Lower\n"
     ]
    },
    {
     "name": "stdin",
     "output_type": "stream",
     "text": [
      "Guess the number 6\n"
     ]
    },
    {
     "name": "stdout",
     "output_type": "stream",
     "text": [
      "Higher\n"
     ]
    },
    {
     "name": "stdin",
     "output_type": "stream",
     "text": [
      "Guess the number 7\n"
     ]
    },
    {
     "name": "stdout",
     "output_type": "stream",
     "text": [
      "Higher\n"
     ]
    },
    {
     "name": "stdin",
     "output_type": "stream",
     "text": [
      "Guess the number 8\n"
     ]
    },
    {
     "name": "stdout",
     "output_type": "stream",
     "text": [
      "Correct! The number was: 8 and it took you 5 attempts to guess right.\n"
     ]
    },
    {
     "name": "stdin",
     "output_type": "stream",
     "text": [
      "Want to play again [1 = yes, 2 = no]? \n"
     ]
    }
   ],
   "source": [
    "randomNum = random.randint(1, 10)\n",
    "guessCount = 0\n",
    "\n",
    "while (True):\n",
    "    guessCount +=1\n",
    "    userGuess = input(\"Guess the number\")\n",
    "    # USER GUESSED CORRECT\n",
    "    if (int(userGuess) == randomNum):\n",
    "        print(f\"Correct! The number was: {randomNum} and it took you {guessCount} attempts to guess right.\")\n",
    "        # play again?\n",
    "        retryInput = input(\"Want to play again [1 = yes, 2 = no]?\")\n",
    "        if (retryInput == \"1\"):\n",
    "            randomNum = random.randint(1, 10)\n",
    "            guessCount = 0\n",
    "            continue\n",
    "        else: \n",
    "            break\n",
    "    # user guessed a lower number\n",
    "    elif (int(userGuess) < randomNum):\n",
    "        print(\"Higher\")\n",
    "    # user guessed a higher number\n",
    "    elif (int(userGuess) > randomNum):\n",
    "        print(\"Lower\")"
   ]
  },
  {
   "cell_type": "code",
   "execution_count": null,
   "id": "672e00d5-12b2-4d63-adc1-1ff42ec1c0a4",
   "metadata": {},
   "outputs": [],
   "source": []
  }
 ],
 "metadata": {
  "kernelspec": {
   "display_name": "Python 3 (ipykernel)",
   "language": "python",
   "name": "python3"
  },
  "language_info": {
   "codemirror_mode": {
    "name": "ipython",
    "version": 3
   },
   "file_extension": ".py",
   "mimetype": "text/x-python",
   "name": "python",
   "nbconvert_exporter": "python",
   "pygments_lexer": "ipython3",
   "version": "3.12.4"
  }
 },
 "nbformat": 4,
 "nbformat_minor": 5
}
