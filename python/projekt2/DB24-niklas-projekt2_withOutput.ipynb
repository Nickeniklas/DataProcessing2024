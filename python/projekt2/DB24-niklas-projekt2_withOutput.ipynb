{
 "cells": [
  {
   "cell_type": "markdown",
   "id": "f026ea7a-ba28-4d98-9138-cb95dd626658",
   "metadata": {},
   "source": [
    "# Projekt 2  i Databearbetning - **\"The Real Deal\"**\n",
    "\n",
    "Scraping data of Steam Sales!\n",
    "\n",
    "**Link to steam specials page 1:** https://store.steampowered.com/search/?specials=1\n",
    "\n",
    "we use: **pandas, beautifulsoup, requests**\n",
    "\n",
    "End goal: a table with this kind of format: \n",
    "\n",
    "**Spelnamn|Rating|#Reviews|Rabatt%|Pris|OrdinariePris|Utgivningsår|Win|Lin|OSX|Tid**\n",
    "1. gameTitleData 2. gameRatingData 3. reviewAmountData 4. saleProcentData 5. discountPriceData 6. originalPriceData  7. releaseData 8. macSupportData 9. linSupportData 10. winSupportData\n",
    "\n",
    "*tid = time of fetch"
   ]
  },
  {
   "cell_type": "code",
   "execution_count": 998,
   "id": "46a403b6-ca27-442c-b875-931f2c1cb8ab",
   "metadata": {},
   "outputs": [],
   "source": [
    "# downloads and imports\n",
    "from IPython.core.display import HTML # to display HTML data better \n",
    "import pandas as pd\n",
    "import requests # get the data of a site\n",
    "from bs4 import BeautifulSoup # parse and handle incoming data"
   ]
  },
  {
   "cell_type": "markdown",
   "id": "99113b2e-28bd-4b27-b044-aacd20468124",
   "metadata": {},
   "source": [
    "### First we **Import the Data**\n",
    "with requests\n",
    "\n",
    "we import the data from the steam special offers page. page one link: https://store.steampowered.com/search/?specials=1&page=1\n",
    "\n",
    "Then by chaning the page=1 variable to 2 it goes to page 2 etc."
   ]
  },
  {
   "cell_type": "code",
   "execution_count": 999,
   "id": "e019210a-1a3d-40d9-b9c9-8bc84f606710",
   "metadata": {},
   "outputs": [],
   "source": [
    "# save response as variable\n",
    "res = requests.get(\"https://store.steampowered.com/search/?specials=1&page=5\")"
   ]
  },
  {
   "cell_type": "code",
   "execution_count": 1000,
   "id": "bddf76ef-5759-473c-99e7-fdf5b030cd31",
   "metadata": {},
   "outputs": [
    {
     "data": {
      "text/plain": [
       "<Response [200]>"
      ]
     },
     "execution_count": 1000,
     "metadata": {},
     "output_type": "execute_result"
    }
   ],
   "source": [
    "# reposone OK\n",
    "res"
   ]
  },
  {
   "cell_type": "markdown",
   "id": "8919e948-0927-41ed-8150-552adc29dd77",
   "metadata": {},
   "source": [
    "### **Data Parsing and Discovery** \n",
    "with BeautifulSoup, Pandas, and HTML"
   ]
  },
  {
   "cell_type": "code",
   "execution_count": 1001,
   "id": "76ee8f2e-0061-4483-b434-82c4c925f014",
   "metadata": {},
   "outputs": [],
   "source": [
    "# the whole page as a soup \n",
    "soup = BeautifulSoup(res.text, 'html.parser')"
   ]
  },
  {
   "cell_type": "code",
   "execution_count": 1002,
   "id": "23b18bd2-d278-4eeb-afeb-b72e2e388648",
   "metadata": {},
   "outputs": [
    {
     "data": {
      "text/plain": [
       "bs4.BeautifulSoup"
      ]
     },
     "execution_count": 1002,
     "metadata": {},
     "output_type": "execute_result"
    }
   ],
   "source": [
    "type(soup)"
   ]
  },
  {
   "cell_type": "markdown",
   "id": "659c953b-ed98-4dde-ae8e-4b57c53805d7",
   "metadata": {},
   "source": [
    "**Here we can look at the search results of the 1st page by uncommenting the third line:**"
   ]
  },
  {
   "cell_type": "code",
   "execution_count": 1003,
   "id": "55d2476a-2f7e-4e0f-aef9-f6528ede8a71",
   "metadata": {},
   "outputs": [],
   "source": [
    "# view search results\n",
    "searchResults = soup.findAll(\"div\", class_=\"search_results\")\n",
    "#HTML(str(searchResults)) # <-- uncomment this line "
   ]
  },
  {
   "cell_type": "code",
   "execution_count": 1004,
   "id": "901b21d0-96e0-4322-8df2-eaa46d76cb12",
   "metadata": {},
   "outputs": [
    {
     "data": {
      "text/plain": [
       "bs4.element.ResultSet"
      ]
     },
     "execution_count": 1004,
     "metadata": {},
     "output_type": "execute_result"
    }
   ],
   "source": [
    "type(searchResults)"
   ]
  },
  {
   "cell_type": "code",
   "execution_count": 1005,
   "id": "c5c014e2-3e1b-4aca-a93a-e344395e1935",
   "metadata": {},
   "outputs": [
    {
     "data": {
      "text/plain": [
       "['15,07€',\n",
       " '19,60€',\n",
       " '35,54€',\n",
       " '24,99€',\n",
       " '21,21€',\n",
       " '12,00€',\n",
       " '11,51€',\n",
       " '3,99€',\n",
       " '9,76€',\n",
       " '30,91€',\n",
       " '31,11€']"
      ]
     },
     "execution_count": 1005,
     "metadata": {},
     "output_type": "execute_result"
    }
   ],
   "source": [
    "# all final discounted prices\n",
    "finalPriceData = []\n",
    "finalPrices = soup.findAll(attrs={\"class\": \"discount_final_price\"})\n",
    "for row in finalPrices:\n",
    "    price = row.text\n",
    "    finalPriceData.append(price)\n",
    "finalPriceData[10:21]"
   ]
  },
  {
   "cell_type": "code",
   "execution_count": 1006,
   "id": "03a9fdf9-2920-468b-8b3b-7da11dce155e",
   "metadata": {},
   "outputs": [
    {
     "data": {
      "text/plain": [
       "<span class=\"title\">Frostpunk 2</span>"
      ]
     },
     "execution_count": 1006,
     "metadata": {},
     "output_type": "execute_result"
    }
   ],
   "source": [
    "# Euro Truck Simulator 2\n",
    "etsTitle = soup.find(\"span\", class_=\"title\")\n",
    "etsTitle"
   ]
  },
  {
   "cell_type": "code",
   "execution_count": 1007,
   "id": "d6eeb44c-b071-4298-96ec-1cbd647f6d12",
   "metadata": {},
   "outputs": [
    {
     "data": {
      "text/plain": [
       "'Frostpunk 2'"
      ]
     },
     "execution_count": 1007,
     "metadata": {},
     "output_type": "execute_result"
    }
   ],
   "source": [
    "etsTitle.text"
   ]
  },
  {
   "cell_type": "code",
   "execution_count": 1008,
   "id": "1c890a89-023c-476a-880c-56c8f3ee6649",
   "metadata": {},
   "outputs": [
    {
     "data": {
      "text/plain": [
       "<div>\n",
       "<span class=\"platform_img win\"></span><span class=\"platform_img mac\"></span> </div>"
      ]
     },
     "execution_count": 1008,
     "metadata": {},
     "output_type": "execute_result"
    }
   ],
   "source": [
    "# Euro Truck Simulator 2 is playable on:\n",
    "etsplayableOn = etsTitle.find_next_sibling()\n",
    "etsplayableOn"
   ]
  },
  {
   "cell_type": "code",
   "execution_count": 1009,
   "id": "467d798e-6b50-4473-a1b7-abe755510abf",
   "metadata": {},
   "outputs": [
    {
     "name": "stdout",
     "output_type": "stream",
     "text": [
      "MacOS supported\n",
      "Winwdows supported\n"
     ]
    }
   ],
   "source": [
    "if (etsplayableOn.find(\"span\", class_=\"platform_img mac\")):\n",
    "    print(\"MacOS supported\")\n",
    "if (etsplayableOn.find(\"span\", class_=\"platform_img linux\")):\n",
    "    print(\"Linux supported\")\n",
    "if (etsplayableOn.find(\"span\", class_=\"platform_img win\")):\n",
    "    print(\"Winwdows supported\")"
   ]
  },
  {
   "cell_type": "markdown",
   "id": "beac247b-71e6-40b8-b7ab-a70e93dfbd69",
   "metadata": {},
   "source": [
    "### So basically just a simple HTML page with pretty straight forward structure, search results (the games) as a container with rows.\n",
    "### We want a table in the form of:\n",
    "**Spelnamn|Rating|#Reviews|Rabatt%|Pris|OrdinariePris|Utgivningsår|Win|Lin|OSX|Tid**"
   ]
  },
  {
   "cell_type": "code",
   "execution_count": 1010,
   "id": "e50a80d2-bea0-4fcf-afad-f2b519a3ef25",
   "metadata": {},
   "outputs": [
    {
     "data": {
      "text/plain": [
       "bs4.element.ResultSet"
      ]
     },
     "execution_count": 1010,
     "metadata": {},
     "output_type": "execute_result"
    }
   ],
   "source": [
    "# reminder (remove type() to see HTML content)\n",
    "type(searchResults)"
   ]
  },
  {
   "cell_type": "code",
   "execution_count": 1011,
   "id": "dd5b3e47-740f-430a-a508-caa2a0208fe4",
   "metadata": {},
   "outputs": [],
   "source": [
    "# variables for games and one game for testing\n",
    "secondGame = soup.findAll(\"a\", class_=\"search_result_row\")[1]\n",
    "allGames = soup.findAll(\"a\", class_=\"search_result_row\")"
   ]
  },
  {
   "cell_type": "markdown",
   "id": "b91d349e-90d2-4649-9f62-da4cdaa76e6b",
   "metadata": {},
   "source": [
    "### GAME TITLES:"
   ]
  },
  {
   "cell_type": "code",
   "execution_count": 1012,
   "id": "28744c97-e02a-4287-9d4e-1bec0d36d3ce",
   "metadata": {},
   "outputs": [
    {
     "data": {
      "text/plain": [
       "'Green Hell'"
      ]
     },
     "execution_count": 1012,
     "metadata": {},
     "output_type": "execute_result"
    }
   ],
   "source": [
    "# get the name of the second game\n",
    "secondGame.find(\"span\", class_=\"title\").text"
   ]
  },
  {
   "cell_type": "code",
   "execution_count": 1013,
   "id": "e1ad1195-ed2b-4851-8274-216505138752",
   "metadata": {},
   "outputs": [],
   "source": [
    "# Title of the games\n",
    "# traditional loop where we get the title.text of each \"search result\"/game\n",
    "gameTitleData = []\n",
    "for game in allGames:\n",
    "    title = game.find(\"span\", class_=\"title\").text\n",
    "    gameTitleData.append(title)"
   ]
  },
  {
   "cell_type": "code",
   "execution_count": 1014,
   "id": "a589400f-e480-4451-912b-adc1365353c8",
   "metadata": {},
   "outputs": [
    {
     "data": {
      "text/plain": [
       "['Frostpunk 2',\n",
       " 'Green Hell',\n",
       " 'Our Life Bundle',\n",
       " 'PGA TOUR 2K23',\n",
       " 'Hooded Horse Conquest',\n",
       " 'Voidtrain - Deluxe Edition',\n",
       " 'Texas-sized Bundle',\n",
       " 'GRIS x Neva',\n",
       " 'TopSpin 2K25',\n",
       " \"Sid Meier's Civilization VI : Platinum Edition\",\n",
       " 'Contraband Police',\n",
       " 'SULFUR',\n",
       " 'Thief and House Builder 2',\n",
       " 'Banishers: Ghosts of New Eden',\n",
       " 'Darkest Dungeon: The Iron Crown',\n",
       " 'Homeworld Remastered Collection Deluxe Edition',\n",
       " 'Get To Work',\n",
       " 'Dying Light',\n",
       " 'Ale & Tale Tavern',\n",
       " 'mc2games Escape Room Bundle',\n",
       " 'Junkyard Police',\n",
       " 'Among Us',\n",
       " 'Aerilon X Mutiny Collection Bundle',\n",
       " 'Farming Simulator 25 - Year 1 Bundle',\n",
       " 'Shadow of the Tomb Raider: Definitive Edition']"
      ]
     },
     "execution_count": 1014,
     "metadata": {},
     "output_type": "execute_result"
    }
   ],
   "source": [
    "gameTitleData"
   ]
  },
  {
   "cell_type": "markdown",
   "id": "77402c16-0134-4840-b03c-ea2ed776d6aa",
   "metadata": {},
   "source": [
    "### RATINGS:"
   ]
  },
  {
   "cell_type": "code",
   "execution_count": 1015,
   "id": "1952ec06-be9d-466f-96ca-994183e3cb65",
   "metadata": {},
   "outputs": [
    {
     "data": {
      "text/plain": [
       "'Very Positive<br>86% of the 56,239 user reviews for this game are positive.'"
      ]
     },
     "execution_count": 1015,
     "metadata": {},
     "output_type": "execute_result"
    }
   ],
   "source": [
    "# for one game\n",
    "# find span with \"classname=search_review_summary\" and get the value of \"attribute=data-tooltip-html\"\n",
    "reviewSummary = secondGame.find(\"span\", class_=\"search_review_summary\").get('data-tooltip-html')\n",
    "reviewSummary"
   ]
  },
  {
   "cell_type": "code",
   "execution_count": 1016,
   "id": "5da6098f-6f29-494e-b892-f9fcefd3d7bf",
   "metadata": {},
   "outputs": [],
   "source": [
    "# split at the break line and only take the first text which is the rating, Ex: 'Very Positive'\n",
    "gameRating = reviewSummary.split(\"<br>\")[0]"
   ]
  },
  {
   "cell_type": "code",
   "execution_count": 1017,
   "id": "c720450c-6eb4-421b-b7e8-7369e21ec25a",
   "metadata": {},
   "outputs": [
    {
     "data": {
      "text/plain": [
       "'Very Positive'"
      ]
     },
     "execution_count": 1017,
     "metadata": {},
     "output_type": "execute_result"
    }
   ],
   "source": [
    "gameRating"
   ]
  },
  {
   "cell_type": "code",
   "execution_count": 1018,
   "id": "b84abde2-221d-4d9b-8258-59f992d6ad5e",
   "metadata": {},
   "outputs": [
    {
     "data": {
      "text/plain": [
       "['Mostly Positive',\n",
       " 'Very Positive',\n",
       " 'Overwhelmingly Positive',\n",
       " 'Mostly Positive',\n",
       " 'Very Positive',\n",
       " 'Mostly Positive',\n",
       " 'Overwhelmingly Positive',\n",
       " 'Overwhelmingly Positive',\n",
       " 'Mixed',\n",
       " 'Very Positive',\n",
       " 'Overwhelmingly Positive',\n",
       " 'Very Positive',\n",
       " 'Very Positive',\n",
       " 'Very Positive',\n",
       " 'Very Positive',\n",
       " 'Very Positive',\n",
       " 'Very Positive',\n",
       " 'Overwhelmingly Positive',\n",
       " 'Very Positive',\n",
       " 'Very Positive',\n",
       " 'Very Positive',\n",
       " 'Very Positive',\n",
       " 'Mostly Positive',\n",
       " 'Very Positive',\n",
       " 'Very Positive']"
      ]
     },
     "execution_count": 1018,
     "metadata": {},
     "output_type": "execute_result"
    }
   ],
   "source": [
    "# now lets get the titles for all the games like previously:\n",
    "gameRatingData = []\n",
    "for game in allGames:\n",
    "    if (game.find(\"span\", class_=\"search_review_summary\")): # if there is a rating\n",
    "        rating = game.find(\"span\", class_=\"search_review_summary\").get('data-tooltip-html').split(\"<br>\")[0] # same code as for one game but oneliner\n",
    "        gameRatingData.append(rating)\n",
    "    else: # else we append \"no rating available\"\n",
    "        gameRatingData.append(\"no rating available\")\n",
    "gameRatingData"
   ]
  },
  {
   "cell_type": "markdown",
   "id": "541f8c40-353c-4c89-80fd-9dee60e32bb4",
   "metadata": {},
   "source": [
    "### Create new units in integers instead of steams own texts\n",
    "from 1 - 8, where 8 is no reviews and 1 is overwhelmingly positive"
   ]
  },
  {
   "cell_type": "code",
   "execution_count": 1019,
   "id": "c38bf3c4-f034-416e-b097-b546bccda8c4",
   "metadata": {},
   "outputs": [],
   "source": [
    "# function for converting the text reviews to numbers 1-8\n",
    "def ratingConverter(gameRatingData):\n",
    "    for i, rating in enumerate(gameRatingData):\n",
    "        if (rating == \"Overwhelmingly Positive\"):\n",
    "            gameRatingData[i] = 1\n",
    "        elif (rating == \"Very Positive\"):\n",
    "            gameRatingData[i] = 2\n",
    "        elif (rating == \"Positive\"):\n",
    "            gameRatingData[i] = 3\n",
    "        elif (rating == \"Mostly Positive\"):\n",
    "            gameRatingData[i] = 4\n",
    "        elif (rating == \"Mixed\"):\n",
    "            gameRatingData[i] = 5\n",
    "        elif (rating == \"Mostly Negative\"):\n",
    "            gameRatingData[i] = 6\n",
    "        elif (rating == \"Overwhelmingly Negative\"):\n",
    "            gameRatingData[i] = 7\n",
    "        elif (rating == \"No User Reviews\"):\n",
    "            gameRatingData[i] = 8"
   ]
  },
  {
   "cell_type": "code",
   "execution_count": 1020,
   "id": "19fbff39-c673-47e6-9ee5-50c8f5310514",
   "metadata": {},
   "outputs": [
    {
     "name": "stdout",
     "output_type": "stream",
     "text": [
      "[4, 2, 1, 4, 2, 4, 1, 1, 5, 2, 1, 2, 2, 2, 2, 2, 2, 1, 2, 2, 2, 2, 4, 2, 2]\n",
      "Length: 25\n"
     ]
    }
   ],
   "source": [
    "# convert the first page\n",
    "ratingConverter(gameRatingData)\n",
    "print(gameRatingData)\n",
    "print(\"Length:\", len(gameRatingData))"
   ]
  },
  {
   "cell_type": "markdown",
   "id": "6fbda788-534b-4e07-bc38-eccd1c85fd94",
   "metadata": {},
   "source": [
    "### Number of Reviews (amount)"
   ]
  },
  {
   "cell_type": "code",
   "execution_count": 1021,
   "id": "26f9249a-723e-47be-8227-75cff48d96e2",
   "metadata": {},
   "outputs": [
    {
     "data": {
      "text/plain": [
       "\u001b[0;31mType:\u001b[0m        module\n",
       "\u001b[0;31mString form:\u001b[0m <module 're' from '/opt/conda/lib/python3.11/re/__init__.py'>\n",
       "\u001b[0;31mFile:\u001b[0m        /opt/conda/lib/python3.11/re/__init__.py\n",
       "\u001b[0;31mDocstring:\u001b[0m  \n",
       "Support for regular expressions (RE).\n",
       "\n",
       "This module provides regular expression matching operations similar to\n",
       "those found in Perl.  It supports both 8-bit and Unicode strings; both\n",
       "the pattern and the strings being processed can contain null bytes and\n",
       "characters outside the US ASCII range.\n",
       "\n",
       "Regular expressions can contain both special and ordinary characters.\n",
       "Most ordinary characters, like \"A\", \"a\", or \"0\", are the simplest\n",
       "regular expressions; they simply match themselves.  You can\n",
       "concatenate ordinary characters, so last matches the string 'last'.\n",
       "\n",
       "The special characters are:\n",
       "    \".\"      Matches any character except a newline.\n",
       "    \"^\"      Matches the start of the string.\n",
       "    \"$\"      Matches the end of the string or just before the newline at\n",
       "             the end of the string.\n",
       "    \"*\"      Matches 0 or more (greedy) repetitions of the preceding RE.\n",
       "             Greedy means that it will match as many repetitions as possible.\n",
       "    \"+\"      Matches 1 or more (greedy) repetitions of the preceding RE.\n",
       "    \"?\"      Matches 0 or 1 (greedy) of the preceding RE.\n",
       "    *?,+?,?? Non-greedy versions of the previous three special characters.\n",
       "    {m,n}    Matches from m to n repetitions of the preceding RE.\n",
       "    {m,n}?   Non-greedy version of the above.\n",
       "    \"\\\\\"     Either escapes special characters or signals a special sequence.\n",
       "    []       Indicates a set of characters.\n",
       "             A \"^\" as the first character indicates a complementing set.\n",
       "    \"|\"      A|B, creates an RE that will match either A or B.\n",
       "    (...)    Matches the RE inside the parentheses.\n",
       "             The contents can be retrieved or matched later in the string.\n",
       "    (?aiLmsux) The letters set the corresponding flags defined below.\n",
       "    (?:...)  Non-grouping version of regular parentheses.\n",
       "    (?P<name>...) The substring matched by the group is accessible by name.\n",
       "    (?P=name)     Matches the text matched earlier by the group named name.\n",
       "    (?#...)  A comment; ignored.\n",
       "    (?=...)  Matches if ... matches next, but doesn't consume the string.\n",
       "    (?!...)  Matches if ... doesn't match next.\n",
       "    (?<=...) Matches if preceded by ... (must be fixed length).\n",
       "    (?<!...) Matches if not preceded by ... (must be fixed length).\n",
       "    (?(id/name)yes|no) Matches yes pattern if the group with id/name matched,\n",
       "                       the (optional) no pattern otherwise.\n",
       "\n",
       "The special sequences consist of \"\\\\\" and a character from the list\n",
       "below.  If the ordinary character is not on the list, then the\n",
       "resulting RE will match the second character.\n",
       "    \\number  Matches the contents of the group of the same number.\n",
       "    \\A       Matches only at the start of the string.\n",
       "    \\Z       Matches only at the end of the string.\n",
       "    \\b       Matches the empty string, but only at the start or end of a word.\n",
       "    \\B       Matches the empty string, but not at the start or end of a word.\n",
       "    \\d       Matches any decimal digit; equivalent to the set [0-9] in\n",
       "             bytes patterns or string patterns with the ASCII flag.\n",
       "             In string patterns without the ASCII flag, it will match the whole\n",
       "             range of Unicode digits.\n",
       "    \\D       Matches any non-digit character; equivalent to [^\\d].\n",
       "    \\s       Matches any whitespace character; equivalent to [ \\t\\n\\r\\f\\v] in\n",
       "             bytes patterns or string patterns with the ASCII flag.\n",
       "             In string patterns without the ASCII flag, it will match the whole\n",
       "             range of Unicode whitespace characters.\n",
       "    \\S       Matches any non-whitespace character; equivalent to [^\\s].\n",
       "    \\w       Matches any alphanumeric character; equivalent to [a-zA-Z0-9_]\n",
       "             in bytes patterns or string patterns with the ASCII flag.\n",
       "             In string patterns without the ASCII flag, it will match the\n",
       "             range of Unicode alphanumeric characters (letters plus digits\n",
       "             plus underscore).\n",
       "             With LOCALE, it will match the set [0-9_] plus characters defined\n",
       "             as letters for the current locale.\n",
       "    \\W       Matches the complement of \\w.\n",
       "    \\\\       Matches a literal backslash.\n",
       "\n",
       "This module exports the following functions:\n",
       "    match     Match a regular expression pattern to the beginning of a string.\n",
       "    fullmatch Match a regular expression pattern to all of a string.\n",
       "    search    Search a string for the presence of a pattern.\n",
       "    sub       Substitute occurrences of a pattern found in a string.\n",
       "    subn      Same as sub, but also return the number of substitutions made.\n",
       "    split     Split a string by the occurrences of a pattern.\n",
       "    findall   Find all occurrences of a pattern in a string.\n",
       "    finditer  Return an iterator yielding a Match object for each match.\n",
       "    compile   Compile a pattern into a Pattern object.\n",
       "    purge     Clear the regular expression cache.\n",
       "    escape    Backslash all non-alphanumerics in a string.\n",
       "\n",
       "Each function other than purge and escape can take an optional 'flags' argument\n",
       "consisting of one or more of the following module constants, joined by \"|\".\n",
       "A, L, and U are mutually exclusive.\n",
       "    A  ASCII       For string patterns, make \\w, \\W, \\b, \\B, \\d, \\D\n",
       "                   match the corresponding ASCII character categories\n",
       "                   (rather than the whole Unicode categories, which is the\n",
       "                   default).\n",
       "                   For bytes patterns, this flag is the only available\n",
       "                   behaviour and needn't be specified.\n",
       "    I  IGNORECASE  Perform case-insensitive matching.\n",
       "    L  LOCALE      Make \\w, \\W, \\b, \\B, dependent on the current locale.\n",
       "    M  MULTILINE   \"^\" matches the beginning of lines (after a newline)\n",
       "                   as well as the string.\n",
       "                   \"$\" matches the end of lines (before a newline) as well\n",
       "                   as the end of the string.\n",
       "    S  DOTALL      \".\" matches any character at all, including the newline.\n",
       "    X  VERBOSE     Ignore whitespace and comments for nicer looking RE's.\n",
       "    U  UNICODE     For compatibility only. Ignored for string patterns (it\n",
       "                   is the default), and forbidden for bytes patterns.\n",
       "\n",
       "This module also defines an exception 'error'."
      ]
     },
     "metadata": {},
     "output_type": "display_data"
    }
   ],
   "source": [
    "# same thing here, different split \n",
    "# for that we need to import regular expressions module\n",
    "import re\n",
    "\n",
    "re?"
   ]
  },
  {
   "cell_type": "code",
   "execution_count": 1022,
   "id": "8beccf9a-619c-40ac-8f48-bcc99361875c",
   "metadata": {},
   "outputs": [
    {
     "data": {
      "text/plain": [
       "[['13,789'],\n",
       " ['56,239'],\n",
       " [],\n",
       " ['4,333'],\n",
       " ['16,876'],\n",
       " ['4,722'],\n",
       " ['138,702'],\n",
       " ['71,476'],\n",
       " ['1,116'],\n",
       " ['251,732'],\n",
       " ['17,087'],\n",
       " ['2,347'],\n",
       " ['6,178'],\n",
       " ['3,486'],\n",
       " ['140,738'],\n",
       " ['11,274'],\n",
       " [],\n",
       " ['323,305'],\n",
       " ['3,254'],\n",
       " ['1,428'],\n",
       " ['18,677'],\n",
       " ['610,186'],\n",
       " [],\n",
       " ['13,879'],\n",
       " ['59,841']]"
      ]
     },
     "execution_count": 1022,
     "metadata": {},
     "output_type": "execute_result"
    }
   ],
   "source": [
    "reviewAmountData = []\n",
    "\n",
    "for game in allGames:\n",
    "    if (game.find(\"span\", class_=\"search_review_summary\")): # if reviews exists\n",
    "        reviewSummary = game.find(\"span\", class_=\"search_review_summary\").get('data-tooltip-html')\n",
    "        # chatGPT help with regex\n",
    "        nReviews = re.findall(r'\\d{1,3}(?:,\\d{3})+', reviewSummary)\n",
    "        reviewAmountData.append(nReviews)\n",
    "    else: # we append \"no review\"\n",
    "        reviewAmountData.append(\"no reviews available\")\n",
    "reviewAmountData"
   ]
  },
  {
   "cell_type": "markdown",
   "id": "d9ed3fa5-097d-4d74-b6b4-f68d433be0c7",
   "metadata": {},
   "source": [
    "### SALE PROCENTS,  DISCOUNT PRICE, ORIGINAL PRICE"
   ]
  },
  {
   "cell_type": "code",
   "execution_count": 1023,
   "id": "22705ae0-a327-455f-ac4e-6aa7078f01be",
   "metadata": {},
   "outputs": [
    {
     "name": "stdout",
     "output_type": "stream",
     "text": [
      "25\n",
      "25\n",
      "25\n"
     ]
    }
   ],
   "source": [
    "# for loop where we get all of them since they are all in the same \"discount_block\"\n",
    "saleProcentData = []\n",
    "discountPriceData = []\n",
    "originalPriceData = []\n",
    "for game in allGames:\n",
    "    # discountBlock -> the block where all the discount information is\n",
    "    discountBlock = game.find(\"div\", class_=\"discount_block\")\n",
    "\n",
    "    #PROCENT\n",
    "    # if there is a sale ->\n",
    "    if discountBlock(\"div\", class_=\"discount_pct\"):\n",
    "        saleProc = discountBlock.find(\"div\", class_=\"discount_pct\").text\n",
    "    # else assign default value as 0%\n",
    "    else:\n",
    "        saleProc = \"0%\"\n",
    "    # append to list\n",
    "    saleProcentData.append(saleProc)\n",
    "\n",
    "    #DISCOUNT PRICE\n",
    "    if discountBlock(\"div\", class_=\"discount_final_price\"):\n",
    "        finalPrice = discountBlock.find(\"div\", class_=\"discount_final_price\").text\n",
    "        # append to list\n",
    "        discountPriceData.append(finalPrice)\n",
    "\n",
    "    #ORIGINAL PRICE\n",
    "    if discountBlock(\"div\", class_=\"discount_original_price\"):\n",
    "        originalPrice = discountBlock.find(\"div\", class_=\"discount_original_price\").text\n",
    "        # append to list\n",
    "        originalPriceData.append(originalPrice)\n",
    "    # non sale games\n",
    "    else:\n",
    "        originalPrice = discountBlock.find(\"div\", class_=\"discount_final_price\").text\n",
    "        # append to list\n",
    "        originalPriceData.append(originalPrice)\n",
    "        \n",
    "print(len(discountPriceData)) # check that all of them are equal length, 50 per page.\n",
    "print(len(saleProcentData))\n",
    "print(len(originalPriceData))\n",
    "#print(\"Sale prices: \", discountPriceData)\n",
    "#print(\"Sale procentages: \", saleProcentData)\n",
    "#print(\"Original prices: \", originalPriceData)"
   ]
  },
  {
   "cell_type": "markdown",
   "id": "f7ca7fab-e48c-4640-9fae-2afc9a92fdad",
   "metadata": {},
   "source": [
    "### Utgivningsår\n",
    "once again, with a traditional loop we get the data to a list"
   ]
  },
  {
   "cell_type": "code",
   "execution_count": 1024,
   "id": "520c7ece-6518-43d5-9e34-da8b5b1999a0",
   "metadata": {},
   "outputs": [
    {
     "data": {
      "text/plain": [
       "['20 Sep, 2024',\n",
       " '5 Sep, 2019',\n",
       " 'no release date',\n",
       " '13 Oct, 2022',\n",
       " 'no release date',\n",
       " 'no release date',\n",
       " 'no release date',\n",
       " 'no release date',\n",
       " '25 Apr, 2024',\n",
       " 'no release date',\n",
       " '8 Mar, 2023',\n",
       " '28 Oct, 2024',\n",
       " 'no release date',\n",
       " '12 Feb, 2024',\n",
       " 'no release date',\n",
       " 'no release date',\n",
       " '2 Dec, 2024',\n",
       " '21 Apr, 2016',\n",
       " '5 Sep, 2024',\n",
       " 'no release date',\n",
       " 'no release date',\n",
       " '16 Nov, 2018',\n",
       " 'no release date',\n",
       " 'no release date',\n",
       " '14 Sep, 2018']"
      ]
     },
     "execution_count": 1024,
     "metadata": {},
     "output_type": "execute_result"
    }
   ],
   "source": [
    "releaseData = []\n",
    "for game in allGames:\n",
    "    # find the release date div    \n",
    "    releaseDate = game.find(\"div\", class_=\"col search_released responsive_secondrow\").text.strip()\n",
    "    \n",
    "    if (releaseDate): # if not empty, save date to list\n",
    "        releaseData.append(releaseDate)\n",
    "    else: # else we append \"no release date\" to the list instead\n",
    "        releaseData.append(\"no release date\")\n",
    "releaseData "
   ]
  },
  {
   "cell_type": "code",
   "execution_count": 1025,
   "id": "465b8db4-6578-412c-a5ea-09933c0309a3",
   "metadata": {},
   "outputs": [
    {
     "data": {
      "text/plain": [
       "25"
      ]
     },
     "execution_count": 1025,
     "metadata": {},
     "output_type": "execute_result"
    }
   ],
   "source": [
    "len(releaseData)"
   ]
  },
  {
   "attachments": {
    "b817aec6-18b2-4e54-acbb-ec62e70e99ed.png": {
     "image/png": "[encoded data removed]"
    }
   },
   "cell_type": "markdown",
   "id": "33f394e5-e7b7-4b78-80c7-3a9dc3c6f990",
   "metadata": {},
   "source": [
    "### SUPPORTED PLATFORMS\n",
    "get the data for what platform is supported for each game, there is an icon of the 3 platforms if supported, else nothing is displayed.\n",
    "\n",
    "**Screenshot of earlier discovering for reminder:**\n",
    "\n",
    "![image.png](attachment:b817aec6-18b2-4e54-acbb-ec62e70e99ed.png)"
   ]
  },
  {
   "cell_type": "code",
   "execution_count": 1026,
   "id": "bdc06924-517f-460c-939e-dfbc923d2e1e",
   "metadata": {},
   "outputs": [
    {
     "name": "stdout",
     "output_type": "stream",
     "text": [
      "25\n",
      "25\n",
      "25\n"
     ]
    }
   ],
   "source": [
    "# check if platform icon exsists, add 1 if yes, else 0 \n",
    "macSupportData = []\n",
    "linSupportData = []\n",
    "winSupportData = []\n",
    "for game in allGames:\n",
    "    # check for mac support\n",
    "    if (game.find(\"span\", class_=\"platform_img mac\")): macSupportData.append(1)\n",
    "    else: macSupportData.append(0)\n",
    "    # check for lin support\n",
    "    if (game.find(\"span\", class_=\"platform_img lin\")): linSupportData.append(1)\n",
    "    else: linSupportData.append(0)\n",
    "    # check for win support\n",
    "    if (game.find(\"span\", class_=\"platform_img win\")): winSupportData.append(1)\n",
    "    else: winSupportData.append(0)\n",
    "# check that length is 50 for each\n",
    "print(len(macSupportData))\n",
    "print(len(linSupportData))\n",
    "print(len(winSupportData))"
   ]
  },
  {
   "cell_type": "markdown",
   "id": "99e71f45-a7fb-418f-8253-098a0389f384",
   "metadata": {},
   "source": [
    "## CREATE DATAFRAME:"
   ]
  },
  {
   "cell_type": "code",
   "execution_count": 1027,
   "id": "d9aa7a56-f532-4db3-8539-66b63ae99d48",
   "metadata": {},
   "outputs": [],
   "source": [
    "from datetime import datetime # for fetch time column"
   ]
  },
  {
   "cell_type": "code",
   "execution_count": 1028,
   "id": "462b70fd-c022-46e4-8814-50c4530221ac",
   "metadata": {},
   "outputs": [],
   "source": [
    "# add data from lists with traditional loop\n",
    "rows = [[\"Spelnamn\", \"Rating\", \"#Reviews\", \"Rabatt%\", \"Pris\", \"OrdinariePris\", \"Utgivningsår\", \"Win\", \"Lin\", \"OSX\", \"Tid\"]]\n",
    "fetchTime = datetime.now().strftime(\"%d.%m.%Y\") # date for fetch\n",
    "for i, game in enumerate(allGames):\n",
    "    row = [gameTitleData[i], gameRatingData[i], reviewAmountData[i], saleProcentData[i], discountPriceData[i], originalPriceData[i], releaseData[i], macSupportData[i], linSupportData[i], winSupportData[i], fetchTime]\n",
    "    rows.append(row)\n",
    "#rows <-- UNCOMMENT TO SEE HOW THE DATA LOOKS LIKE"
   ]
  },
  {
   "cell_type": "code",
   "execution_count": 1029,
   "id": "d8b627e3-1b63-43bb-965e-320482dea471",
   "metadata": {},
   "outputs": [
    {
     "data": {
      "text/html": [
       "<div>\n",
       "<style scoped>\n",
       "    .dataframe tbody tr th:only-of-type {\n",
       "        vertical-align: middle;\n",
       "    }\n",
       "\n",
       "    .dataframe tbody tr th {\n",
       "        vertical-align: top;\n",
       "    }\n",
       "\n",
       "    .dataframe thead th {\n",
       "        text-align: right;\n",
       "    }\n",
       "</style>\n",
       "<table border=\"1\" class=\"dataframe\">\n",
       "  <thead>\n",
       "    <tr style=\"text-align: right;\">\n",
       "      <th></th>\n",
       "      <th>0</th>\n",
       "      <th>1</th>\n",
       "      <th>2</th>\n",
       "      <th>3</th>\n",
       "      <th>4</th>\n",
       "      <th>5</th>\n",
       "      <th>6</th>\n",
       "      <th>7</th>\n",
       "      <th>8</th>\n",
       "      <th>9</th>\n",
       "      <th>10</th>\n",
       "    </tr>\n",
       "  </thead>\n",
       "  <tbody>\n",
       "    <tr>\n",
       "      <th>0</th>\n",
       "      <td>Spelnamn</td>\n",
       "      <td>Rating</td>\n",
       "      <td>#Reviews</td>\n",
       "      <td>Rabatt%</td>\n",
       "      <td>Pris</td>\n",
       "      <td>OrdinariePris</td>\n",
       "      <td>Utgivningsår</td>\n",
       "      <td>Win</td>\n",
       "      <td>Lin</td>\n",
       "      <td>OSX</td>\n",
       "      <td>Tid</td>\n",
       "    </tr>\n",
       "    <tr>\n",
       "      <th>1</th>\n",
       "      <td>Frostpunk 2</td>\n",
       "      <td>4</td>\n",
       "      <td>[13,789]</td>\n",
       "      <td>-20%</td>\n",
       "      <td>35,99€</td>\n",
       "      <td>44,99€</td>\n",
       "      <td>20 Sep, 2024</td>\n",
       "      <td>1</td>\n",
       "      <td>0</td>\n",
       "      <td>1</td>\n",
       "      <td>07.12.2024</td>\n",
       "    </tr>\n",
       "    <tr>\n",
       "      <th>2</th>\n",
       "      <td>Green Hell</td>\n",
       "      <td>2</td>\n",
       "      <td>[56,239]</td>\n",
       "      <td>-67%</td>\n",
       "      <td>6,92€</td>\n",
       "      <td>20,99€</td>\n",
       "      <td>5 Sep, 2019</td>\n",
       "      <td>0</td>\n",
       "      <td>0</td>\n",
       "      <td>1</td>\n",
       "      <td>07.12.2024</td>\n",
       "    </tr>\n",
       "  </tbody>\n",
       "</table>\n",
       "</div>"
      ],
      "text/plain": [
       "            0       1         2        3       4              5   \\\n",
       "0     Spelnamn  Rating  #Reviews  Rabatt%    Pris  OrdinariePris   \n",
       "1  Frostpunk 2       4  [13,789]     -20%  35,99€         44,99€   \n",
       "2   Green Hell       2  [56,239]     -67%   6,92€         20,99€   \n",
       "\n",
       "             6    7    8    9           10  \n",
       "0  Utgivningsår  Win  Lin  OSX         Tid  \n",
       "1  20 Sep, 2024    1    0    1  07.12.2024  \n",
       "2   5 Sep, 2019    0    0    1  07.12.2024  "
      ]
     },
     "execution_count": 1029,
     "metadata": {},
     "output_type": "execute_result"
    }
   ],
   "source": [
    "# create dataframe\n",
    "df = pd.DataFrame(rows)\n",
    "df.head(3)"
   ]
  },
  {
   "cell_type": "code",
   "execution_count": 1030,
   "id": "b55cda21-0b47-4979-9a31-e9f76788bfe6",
   "metadata": {},
   "outputs": [],
   "source": [
    "df.columns = df.iloc[0] # set first row as column titles \n",
    "df = df.drop(0).reset_index(drop=True) # remove the row and reset index"
   ]
  },
  {
   "cell_type": "markdown",
   "id": "c134c2eb-b187-49b1-918e-494ce317cd40",
   "metadata": {},
   "source": [
    "### Discovery on the DataFrame:"
   ]
  },
  {
   "cell_type": "code",
   "execution_count": 1031,
   "id": "3a1a9904-bb8b-4926-b5ae-cda5f00a19e3",
   "metadata": {},
   "outputs": [
    {
     "data": {
      "text/html": [
       "<div>\n",
       "<style scoped>\n",
       "    .dataframe tbody tr th:only-of-type {\n",
       "        vertical-align: middle;\n",
       "    }\n",
       "\n",
       "    .dataframe tbody tr th {\n",
       "        vertical-align: top;\n",
       "    }\n",
       "\n",
       "    .dataframe thead th {\n",
       "        text-align: right;\n",
       "    }\n",
       "</style>\n",
       "<table border=\"1\" class=\"dataframe\">\n",
       "  <thead>\n",
       "    <tr style=\"text-align: right;\">\n",
       "      <th></th>\n",
       "      <th>Spelnamn</th>\n",
       "      <th>Rating</th>\n",
       "      <th>#Reviews</th>\n",
       "      <th>Rabatt%</th>\n",
       "      <th>Pris</th>\n",
       "      <th>OrdinariePris</th>\n",
       "      <th>Utgivningsår</th>\n",
       "      <th>Win</th>\n",
       "      <th>Lin</th>\n",
       "      <th>OSX</th>\n",
       "      <th>Tid</th>\n",
       "    </tr>\n",
       "  </thead>\n",
       "  <tbody>\n",
       "    <tr>\n",
       "      <th>0</th>\n",
       "      <td>Frostpunk 2</td>\n",
       "      <td>4</td>\n",
       "      <td>[13,789]</td>\n",
       "      <td>-20%</td>\n",
       "      <td>35,99€</td>\n",
       "      <td>44,99€</td>\n",
       "      <td>20 Sep, 2024</td>\n",
       "      <td>1</td>\n",
       "      <td>0</td>\n",
       "      <td>1</td>\n",
       "      <td>07.12.2024</td>\n",
       "    </tr>\n",
       "    <tr>\n",
       "      <th>1</th>\n",
       "      <td>Green Hell</td>\n",
       "      <td>2</td>\n",
       "      <td>[56,239]</td>\n",
       "      <td>-67%</td>\n",
       "      <td>6,92€</td>\n",
       "      <td>20,99€</td>\n",
       "      <td>5 Sep, 2019</td>\n",
       "      <td>0</td>\n",
       "      <td>0</td>\n",
       "      <td>1</td>\n",
       "      <td>07.12.2024</td>\n",
       "    </tr>\n",
       "    <tr>\n",
       "      <th>2</th>\n",
       "      <td>Our Life Bundle</td>\n",
       "      <td>1</td>\n",
       "      <td>[]</td>\n",
       "      <td>0%</td>\n",
       "      <td>33,67€</td>\n",
       "      <td>33,67€</td>\n",
       "      <td>no release date</td>\n",
       "      <td>0</td>\n",
       "      <td>0</td>\n",
       "      <td>1</td>\n",
       "      <td>07.12.2024</td>\n",
       "    </tr>\n",
       "    <tr>\n",
       "      <th>3</th>\n",
       "      <td>PGA TOUR 2K23</td>\n",
       "      <td>4</td>\n",
       "      <td>[4,333]</td>\n",
       "      <td>-85%</td>\n",
       "      <td>8,99€</td>\n",
       "      <td>59,99€</td>\n",
       "      <td>13 Oct, 2022</td>\n",
       "      <td>0</td>\n",
       "      <td>0</td>\n",
       "      <td>1</td>\n",
       "      <td>07.12.2024</td>\n",
       "    </tr>\n",
       "    <tr>\n",
       "      <th>4</th>\n",
       "      <td>Hooded Horse Conquest</td>\n",
       "      <td>2</td>\n",
       "      <td>[16,876]</td>\n",
       "      <td>0%</td>\n",
       "      <td>44,97€</td>\n",
       "      <td>44,97€</td>\n",
       "      <td>no release date</td>\n",
       "      <td>0</td>\n",
       "      <td>0</td>\n",
       "      <td>1</td>\n",
       "      <td>07.12.2024</td>\n",
       "    </tr>\n",
       "  </tbody>\n",
       "</table>\n",
       "</div>"
      ],
      "text/plain": [
       "0               Spelnamn Rating  #Reviews Rabatt%    Pris OrdinariePris  \\\n",
       "0            Frostpunk 2      4  [13,789]    -20%  35,99€        44,99€   \n",
       "1             Green Hell      2  [56,239]    -67%   6,92€        20,99€   \n",
       "2        Our Life Bundle      1        []      0%  33,67€        33,67€   \n",
       "3          PGA TOUR 2K23      4   [4,333]    -85%   8,99€        59,99€   \n",
       "4  Hooded Horse Conquest      2  [16,876]      0%  44,97€        44,97€   \n",
       "\n",
       "0     Utgivningsår Win Lin OSX         Tid  \n",
       "0     20 Sep, 2024   1   0   1  07.12.2024  \n",
       "1      5 Sep, 2019   0   0   1  07.12.2024  \n",
       "2  no release date   0   0   1  07.12.2024  \n",
       "3     13 Oct, 2022   0   0   1  07.12.2024  \n",
       "4  no release date   0   0   1  07.12.2024  "
      ]
     },
     "execution_count": 1031,
     "metadata": {},
     "output_type": "execute_result"
    }
   ],
   "source": [
    "df.head(5)"
   ]
  },
  {
   "cell_type": "code",
   "execution_count": 1032,
   "id": "93ed2f1b-6473-4452-86e5-6a9cdb0c7a24",
   "metadata": {},
   "outputs": [
    {
     "name": "stdout",
     "output_type": "stream",
     "text": [
      "describe:\n",
      " 0          Spelnamn  Rating #Reviews Rabatt%    Pris OrdinariePris  \\\n",
      "count            25      25       25      25      25            25   \n",
      "unique           25       4       23      15      25            24   \n",
      "top     Frostpunk 2       2       []      0%  35,99€        59,99€   \n",
      "freq              1      15        3       7       1             2   \n",
      "\n",
      "0          Utgivningsår  Win  Lin  OSX         Tid  \n",
      "count                25   25   25   25          25  \n",
      "unique               13    2    1    1           1  \n",
      "top     no release date    0    0    1  07.12.2024  \n",
      "freq                 13   17   25   25          25  \n",
      "\n",
      "shape:\n",
      " (25, 11)\n",
      "\n",
      "type:\n",
      " <class 'pandas.core.frame.DataFrame'>\n"
     ]
    }
   ],
   "source": [
    "# describe, shape, type\n",
    "print(\"describe:\\n\", df.describe(), end=\"\\n\\n\")\n",
    "print(\"shape:\\n\", df.shape, end=\"\\n\\n\")\n",
    "print(\"type:\\n\", type(df))"
   ]
  },
  {
   "attachments": {},
   "cell_type": "markdown",
   "id": "f4bc5ee4-affd-4054-947f-12f692b55185",
   "metadata": {},
   "source": [
    "## Creating a CSV file out of our DataFrame:\n",
    "**Columns for reminder -> Spelnamn|Rating|#Reviews|Rabatt%|Pris|OrdinariePris|Utgivningsår|Win|Lin|OSX|Tid**\n",
    "\n",
    "**file names:**\n",
    "\n",
    "1. gameTitleData 2. gameRatingData 3. reviewAmountData 4. saleProcentData 5. discountPriceData 6. originalPriceData  7. releaseData 8. macSupportData 9. linSupportData 10. winSupportData"
   ]
  },
  {
   "cell_type": "code",
   "execution_count": 1033,
   "id": "56610197-f481-4b60-86ce-f4f51282e592",
   "metadata": {},
   "outputs": [],
   "source": [
    "import csv # to create csv file \n",
    "import os # to check if file exsists already"
   ]
  },
  {
   "cell_type": "code",
   "execution_count": 1034,
   "id": "6405eebb-b2d8-4f11-9da9-f037bdbc77e2",
   "metadata": {},
   "outputs": [
    {
     "data": {
      "text/html": [
       "<div>\n",
       "<style scoped>\n",
       "    .dataframe tbody tr th:only-of-type {\n",
       "        vertical-align: middle;\n",
       "    }\n",
       "\n",
       "    .dataframe tbody tr th {\n",
       "        vertical-align: top;\n",
       "    }\n",
       "\n",
       "    .dataframe thead th {\n",
       "        text-align: right;\n",
       "    }\n",
       "</style>\n",
       "<table border=\"1\" class=\"dataframe\">\n",
       "  <thead>\n",
       "    <tr style=\"text-align: right;\">\n",
       "      <th></th>\n",
       "      <th>Spelnamn</th>\n",
       "      <th>Rating</th>\n",
       "      <th>#Reviews</th>\n",
       "      <th>Rabatt%</th>\n",
       "      <th>Pris</th>\n",
       "      <th>OrdinariePris</th>\n",
       "      <th>Utgivningsår</th>\n",
       "      <th>Win</th>\n",
       "      <th>Lin</th>\n",
       "      <th>OSX</th>\n",
       "      <th>Tid</th>\n",
       "    </tr>\n",
       "  </thead>\n",
       "  <tbody>\n",
       "    <tr>\n",
       "      <th>0</th>\n",
       "      <td>Frostpunk 2</td>\n",
       "      <td>4</td>\n",
       "      <td>[13,789]</td>\n",
       "      <td>-20%</td>\n",
       "      <td>35,99€</td>\n",
       "      <td>44,99€</td>\n",
       "      <td>20 Sep, 2024</td>\n",
       "      <td>1</td>\n",
       "      <td>0</td>\n",
       "      <td>1</td>\n",
       "      <td>07.12.2024</td>\n",
       "    </tr>\n",
       "    <tr>\n",
       "      <th>1</th>\n",
       "      <td>Green Hell</td>\n",
       "      <td>2</td>\n",
       "      <td>[56,239]</td>\n",
       "      <td>-67%</td>\n",
       "      <td>6,92€</td>\n",
       "      <td>20,99€</td>\n",
       "      <td>5 Sep, 2019</td>\n",
       "      <td>0</td>\n",
       "      <td>0</td>\n",
       "      <td>1</td>\n",
       "      <td>07.12.2024</td>\n",
       "    </tr>\n",
       "    <tr>\n",
       "      <th>2</th>\n",
       "      <td>Our Life Bundle</td>\n",
       "      <td>1</td>\n",
       "      <td>[]</td>\n",
       "      <td>0%</td>\n",
       "      <td>33,67€</td>\n",
       "      <td>33,67€</td>\n",
       "      <td>no release date</td>\n",
       "      <td>0</td>\n",
       "      <td>0</td>\n",
       "      <td>1</td>\n",
       "      <td>07.12.2024</td>\n",
       "    </tr>\n",
       "    <tr>\n",
       "      <th>3</th>\n",
       "      <td>PGA TOUR 2K23</td>\n",
       "      <td>4</td>\n",
       "      <td>[4,333]</td>\n",
       "      <td>-85%</td>\n",
       "      <td>8,99€</td>\n",
       "      <td>59,99€</td>\n",
       "      <td>13 Oct, 2022</td>\n",
       "      <td>0</td>\n",
       "      <td>0</td>\n",
       "      <td>1</td>\n",
       "      <td>07.12.2024</td>\n",
       "    </tr>\n",
       "    <tr>\n",
       "      <th>4</th>\n",
       "      <td>Hooded Horse Conquest</td>\n",
       "      <td>2</td>\n",
       "      <td>[16,876]</td>\n",
       "      <td>0%</td>\n",
       "      <td>44,97€</td>\n",
       "      <td>44,97€</td>\n",
       "      <td>no release date</td>\n",
       "      <td>0</td>\n",
       "      <td>0</td>\n",
       "      <td>1</td>\n",
       "      <td>07.12.2024</td>\n",
       "    </tr>\n",
       "  </tbody>\n",
       "</table>\n",
       "</div>"
      ],
      "text/plain": [
       "0               Spelnamn Rating  #Reviews Rabatt%    Pris OrdinariePris  \\\n",
       "0            Frostpunk 2      4  [13,789]    -20%  35,99€        44,99€   \n",
       "1             Green Hell      2  [56,239]    -67%   6,92€        20,99€   \n",
       "2        Our Life Bundle      1        []      0%  33,67€        33,67€   \n",
       "3          PGA TOUR 2K23      4   [4,333]    -85%   8,99€        59,99€   \n",
       "4  Hooded Horse Conquest      2  [16,876]      0%  44,97€        44,97€   \n",
       "\n",
       "0     Utgivningsår Win Lin OSX         Tid  \n",
       "0     20 Sep, 2024   1   0   1  07.12.2024  \n",
       "1      5 Sep, 2019   0   0   1  07.12.2024  \n",
       "2  no release date   0   0   1  07.12.2024  \n",
       "3     13 Oct, 2022   0   0   1  07.12.2024  \n",
       "4  no release date   0   0   1  07.12.2024  "
      ]
     },
     "execution_count": 1034,
     "metadata": {},
     "output_type": "execute_result"
    }
   ],
   "source": [
    "df.head()"
   ]
  },
  {
   "cell_type": "code",
   "execution_count": 1035,
   "id": "7eee392f-9f35-4ffd-aeb2-615cf1121e50",
   "metadata": {},
   "outputs": [
    {
     "name": "stdout",
     "output_type": "stream",
     "text": [
      "appended to csv file\n"
     ]
    }
   ],
   "source": [
    "# create CSV file out of dataframe\n",
    "if (not os.path.exists('steamSaleData.csv')): #create new csv\n",
    "    df.to_csv('steamSaleData.csv', index=False)\n",
    "    print(\"new csv file created\")\n",
    "else: # append to csv\n",
    "    df.to_csv('steamSaleData.csv', mode='a', index=False, header=False) # we dont want to rewrite column titles\n",
    "    print(\"appended to csv file\")"
   ]
  },
  {
   "cell_type": "markdown",
   "id": "ec3e579a-ca3c-41e8-90e0-01399b82b523",
   "metadata": {},
   "source": [
    "### Create DataFrame out of the full csv:"
   ]
  },
  {
   "cell_type": "code",
   "execution_count": 1036,
   "id": "481ab7eb-60f8-4f00-a0a9-a6d5cbe30e37",
   "metadata": {},
   "outputs": [
    {
     "data": {
      "text/html": [
       "<div>\n",
       "<style scoped>\n",
       "    .dataframe tbody tr th:only-of-type {\n",
       "        vertical-align: middle;\n",
       "    }\n",
       "\n",
       "    .dataframe tbody tr th {\n",
       "        vertical-align: top;\n",
       "    }\n",
       "\n",
       "    .dataframe thead th {\n",
       "        text-align: right;\n",
       "    }\n",
       "</style>\n",
       "<table border=\"1\" class=\"dataframe\">\n",
       "  <thead>\n",
       "    <tr style=\"text-align: right;\">\n",
       "      <th></th>\n",
       "      <th>Spelnamn</th>\n",
       "      <th>Rating</th>\n",
       "      <th>#Reviews</th>\n",
       "      <th>Rabatt%</th>\n",
       "      <th>Pris</th>\n",
       "      <th>OrdinariePris</th>\n",
       "      <th>Utgivningsår</th>\n",
       "      <th>Win</th>\n",
       "      <th>Lin</th>\n",
       "      <th>OSX</th>\n",
       "      <th>Tid</th>\n",
       "    </tr>\n",
       "  </thead>\n",
       "  <tbody>\n",
       "    <tr>\n",
       "      <th>0</th>\n",
       "      <td>Euro Truck Simulator 2</td>\n",
       "      <td>1</td>\n",
       "      <td>['615,197']</td>\n",
       "      <td>-75%</td>\n",
       "      <td>4,99€</td>\n",
       "      <td>19,99€</td>\n",
       "      <td>12 Oct, 2012</td>\n",
       "      <td>1</td>\n",
       "      <td>0</td>\n",
       "      <td>1</td>\n",
       "      <td>07.12.2024</td>\n",
       "    </tr>\n",
       "    <tr>\n",
       "      <th>1</th>\n",
       "      <td>Red Dead Redemption 2</td>\n",
       "      <td>2</td>\n",
       "      <td>['592,159']</td>\n",
       "      <td>-67%</td>\n",
       "      <td>19,79€</td>\n",
       "      <td>59,99€</td>\n",
       "      <td>5 Dec, 2019</td>\n",
       "      <td>0</td>\n",
       "      <td>0</td>\n",
       "      <td>1</td>\n",
       "      <td>07.12.2024</td>\n",
       "    </tr>\n",
       "    <tr>\n",
       "      <th>2</th>\n",
       "      <td>Balkans Bundle</td>\n",
       "      <td>2</td>\n",
       "      <td>['5,164']</td>\n",
       "      <td>-34%</td>\n",
       "      <td>25,41€</td>\n",
       "      <td>38,37€</td>\n",
       "      <td>no release date</td>\n",
       "      <td>1</td>\n",
       "      <td>0</td>\n",
       "      <td>1</td>\n",
       "      <td>07.12.2024</td>\n",
       "    </tr>\n",
       "    <tr>\n",
       "      <th>3</th>\n",
       "      <td>Forza Horizon 4</td>\n",
       "      <td>2</td>\n",
       "      <td>['249,558']</td>\n",
       "      <td>-80%</td>\n",
       "      <td>13,99€</td>\n",
       "      <td>69,99€</td>\n",
       "      <td>9 Mar, 2021</td>\n",
       "      <td>0</td>\n",
       "      <td>0</td>\n",
       "      <td>1</td>\n",
       "      <td>07.12.2024</td>\n",
       "    </tr>\n",
       "    <tr>\n",
       "      <th>4</th>\n",
       "      <td>Tom Clancy's Rainbow Six® Siege</td>\n",
       "      <td>2</td>\n",
       "      <td>['1,137,481']</td>\n",
       "      <td>-60%</td>\n",
       "      <td>7,99€</td>\n",
       "      <td>19,99€</td>\n",
       "      <td>1 Dec, 2015</td>\n",
       "      <td>0</td>\n",
       "      <td>0</td>\n",
       "      <td>1</td>\n",
       "      <td>07.12.2024</td>\n",
       "    </tr>\n",
       "    <tr>\n",
       "      <th>...</th>\n",
       "      <td>...</td>\n",
       "      <td>...</td>\n",
       "      <td>...</td>\n",
       "      <td>...</td>\n",
       "      <td>...</td>\n",
       "      <td>...</td>\n",
       "      <td>...</td>\n",
       "      <td>...</td>\n",
       "      <td>...</td>\n",
       "      <td>...</td>\n",
       "      <td>...</td>\n",
       "    </tr>\n",
       "    <tr>\n",
       "      <th>120</th>\n",
       "      <td>Junkyard Police</td>\n",
       "      <td>2</td>\n",
       "      <td>['18,677']</td>\n",
       "      <td>-29%</td>\n",
       "      <td>31,11€</td>\n",
       "      <td>43,64€</td>\n",
       "      <td>no release date</td>\n",
       "      <td>0</td>\n",
       "      <td>0</td>\n",
       "      <td>1</td>\n",
       "      <td>07.12.2024</td>\n",
       "    </tr>\n",
       "    <tr>\n",
       "      <th>121</th>\n",
       "      <td>Among Us</td>\n",
       "      <td>2</td>\n",
       "      <td>['610,186']</td>\n",
       "      <td>-40%</td>\n",
       "      <td>2,69€</td>\n",
       "      <td>4,49€</td>\n",
       "      <td>16 Nov, 2018</td>\n",
       "      <td>0</td>\n",
       "      <td>0</td>\n",
       "      <td>1</td>\n",
       "      <td>07.12.2024</td>\n",
       "    </tr>\n",
       "    <tr>\n",
       "      <th>122</th>\n",
       "      <td>Aerilon X Mutiny Collection Bundle</td>\n",
       "      <td>4</td>\n",
       "      <td>[]</td>\n",
       "      <td>0%</td>\n",
       "      <td>9,97€</td>\n",
       "      <td>9,97€</td>\n",
       "      <td>no release date</td>\n",
       "      <td>0</td>\n",
       "      <td>0</td>\n",
       "      <td>1</td>\n",
       "      <td>07.12.2024</td>\n",
       "    </tr>\n",
       "    <tr>\n",
       "      <th>123</th>\n",
       "      <td>Farming Simulator 25 - Year 1 Bundle</td>\n",
       "      <td>2</td>\n",
       "      <td>['13,879']</td>\n",
       "      <td>0%</td>\n",
       "      <td>79,78€</td>\n",
       "      <td>79,78€</td>\n",
       "      <td>no release date</td>\n",
       "      <td>1</td>\n",
       "      <td>0</td>\n",
       "      <td>1</td>\n",
       "      <td>07.12.2024</td>\n",
       "    </tr>\n",
       "    <tr>\n",
       "      <th>124</th>\n",
       "      <td>Shadow of the Tomb Raider: Definitive Edition</td>\n",
       "      <td>2</td>\n",
       "      <td>['59,841']</td>\n",
       "      <td>-80%</td>\n",
       "      <td>7,91€</td>\n",
       "      <td>39,60€</td>\n",
       "      <td>14 Sep, 2018</td>\n",
       "      <td>1</td>\n",
       "      <td>0</td>\n",
       "      <td>1</td>\n",
       "      <td>07.12.2024</td>\n",
       "    </tr>\n",
       "  </tbody>\n",
       "</table>\n",
       "<p>125 rows × 11 columns</p>\n",
       "</div>"
      ],
      "text/plain": [
       "                                          Spelnamn Rating       #Reviews  \\\n",
       "0                           Euro Truck Simulator 2      1    ['615,197']   \n",
       "1                            Red Dead Redemption 2      2    ['592,159']   \n",
       "2                                   Balkans Bundle      2      ['5,164']   \n",
       "3                                  Forza Horizon 4      2    ['249,558']   \n",
       "4                  Tom Clancy's Rainbow Six® Siege      2  ['1,137,481']   \n",
       "..                                             ...    ...            ...   \n",
       "120                                Junkyard Police      2     ['18,677']   \n",
       "121                                       Among Us      2    ['610,186']   \n",
       "122             Aerilon X Mutiny Collection Bundle      4             []   \n",
       "123           Farming Simulator 25 - Year 1 Bundle      2     ['13,879']   \n",
       "124  Shadow of the Tomb Raider: Definitive Edition      2     ['59,841']   \n",
       "\n",
       "    Rabatt%    Pris OrdinariePris     Utgivningsår  Win  Lin  OSX         Tid  \n",
       "0      -75%   4,99€        19,99€     12 Oct, 2012    1    0    1  07.12.2024  \n",
       "1      -67%  19,79€        59,99€      5 Dec, 2019    0    0    1  07.12.2024  \n",
       "2      -34%  25,41€        38,37€  no release date    1    0    1  07.12.2024  \n",
       "3      -80%  13,99€        69,99€      9 Mar, 2021    0    0    1  07.12.2024  \n",
       "4      -60%   7,99€        19,99€      1 Dec, 2015    0    0    1  07.12.2024  \n",
       "..      ...     ...           ...              ...  ...  ...  ...         ...  \n",
       "120    -29%  31,11€        43,64€  no release date    0    0    1  07.12.2024  \n",
       "121    -40%   2,69€         4,49€     16 Nov, 2018    0    0    1  07.12.2024  \n",
       "122      0%   9,97€         9,97€  no release date    0    0    1  07.12.2024  \n",
       "123      0%  79,78€        79,78€  no release date    1    0    1  07.12.2024  \n",
       "124    -80%   7,91€        39,60€     14 Sep, 2018    1    0    1  07.12.2024  \n",
       "\n",
       "[125 rows x 11 columns]"
      ]
     },
     "execution_count": 1036,
     "metadata": {},
     "output_type": "execute_result"
    }
   ],
   "source": [
    "# look at the full csv as a pandas dataframe\n",
    "fullDf = pd.read_csv('steamSaleData.csv')\n",
    "fullDf"
   ]
  },
  {
   "cell_type": "code",
   "execution_count": 1037,
   "id": "2218f03a-60e4-45b3-96f3-80b256eb4517",
   "metadata": {},
   "outputs": [
    {
     "name": "stdout",
     "output_type": "stream",
     "text": [
      "type:\n",
      " <class 'pandas.core.frame.DataFrame'>\n",
      "Shape:\n",
      " (125, 11)\n",
      "\n",
      "describe():\n",
      "               Win    Lin    OSX\n",
      "count  125.000000  125.0  125.0\n",
      "mean     0.368000    0.0    1.0\n",
      "std      0.484202    0.0    0.0\n",
      "min      0.000000    0.0    1.0\n",
      "25%      0.000000    0.0    1.0\n",
      "50%      0.000000    0.0    1.0\n",
      "75%      1.000000    0.0    1.0\n",
      "max      1.000000    0.0    1.0\n",
      "\n"
     ]
    }
   ],
   "source": [
    "# look further at the data, type, Shape, describe()\n",
    "print(\"type:\\n\", type(fullDf))\n",
    "print(\"Shape:\\n\", fullDf.shape, end=\"\\n\\n\")\n",
    "print(\"describe():\\n\", fullDf.describe(), end=\"\\n\\n\")"
   ]
  },
  {
   "cell_type": "code",
   "execution_count": 1038,
   "id": "0208156d-e1f8-4176-9fbf-47e669963138",
   "metadata": {},
   "outputs": [
    {
     "name": "stdout",
     "output_type": "stream",
     "text": [
      "Empty DataFrame\n",
      "Columns: [Spelnamn, Rating, #Reviews, Rabatt%, Pris, OrdinariePris, Utgivningsår, Win, Lin, OSX, Tid]\n",
      "Index: []\n"
     ]
    }
   ],
   "source": [
    "# check for duplicates\n",
    "duplicates = fullDf.duplicated()\n",
    "print(fullDf[duplicates])"
   ]
  },
  {
   "cell_type": "markdown",
   "id": "0886422a-5705-4892-9894-fd8671c07007",
   "metadata": {},
   "source": [
    "## TO IMPROVE:\n",
    "Currently I have to manually change the page variable for the requests get url and then run all cells again so...\n",
    "\n",
    "make all loops and such as functions so that I can go:\n",
    "\n",
    "\n",
    "for i in range(1,6):\n",
    "\n",
    "    url = f\"https://store.steampowered.com/search/?specials=1&page={i}\"\n",
    "    \n",
    "    requests.get(url)\n",
    "    \n",
    "    FUNCTIONS HERE\n",
    "\n",
    "    print(\"data fetched and written in csv for page =\", i)"
   ]
  }
 ],
 "metadata": {
  "kernelspec": {
   "display_name": "Python 3 (ipykernel)",
   "language": "python",
   "name": "python3"
  },
  "language_info": {
   "codemirror_mode": {
    "name": "ipython",
    "version": 3
   },
   "file_extension": ".py",
   "mimetype": "text/x-python",
   "name": "python",
   "nbconvert_exporter": "python",
   "pygments_lexer": "ipython3",
   "version": "3.11.9"
  }
 },
 "nbformat": 4,
 "nbformat_minor": 5
}
